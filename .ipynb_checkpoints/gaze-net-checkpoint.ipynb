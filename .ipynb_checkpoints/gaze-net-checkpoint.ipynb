{
 "cells": [
  {
   "cell_type": "code",
   "execution_count": 25,
   "metadata": {},
   "outputs": [],
   "source": [
    "import keras\n",
    "from keras.models import Model\n",
    "from keras.layers import Input, Dense, LSTM, BatchNormalization, Concatenate, Flatten, Conv2D"
   ]
  },
  {
   "cell_type": "code",
   "execution_count": 28,
   "metadata": {},
   "outputs": [],
   "source": [
    "class GazeNet():\n",
    "    def __init__(self):\n",
    "        self.model = self.create_model()\n",
    "    \n",
    "    def convolution(self, kernel_size = 3):\n",
    "        def f(input):\n",
    "            filters = 128\n",
    "            conv1 = Conv2D(filters, kernel_size, strides=(1, 1), padding='valid', activation=None)(input)\n",
    "            conv1 = Conv2D(filters, kernel_size, strides=(1, 1), padding='valid', activation=None)(conv1)\n",
    "            conv1 = Conv2D(filters, kernel_size, strides=(1, 1), padding='valid', activation=None)(conv1)\n",
    "            return conv1\n",
    "        return f\n",
    "    \n",
    "    def lstm(self):\n",
    "        def f(input):\n",
    "            lstm = LSTM(128,return_sequences=True)(input)\n",
    "            lstm = LSTM(128,return_sequences=True)(lstm)\n",
    "            lstm = LSTM(128)(lstm)\n",
    "            return lstm\n",
    "        return f\n",
    "    \n",
    "    def dense(self):\n",
    "        def f(input):\n",
    "            dense = Dense(128)(input)\n",
    "            dense = Dense(128)(dense)\n",
    "            dense = Dense(128)(dense)\n",
    "            return dense\n",
    "        return f\n",
    "        \n",
    "    def create_model(self):\n",
    "        image = Input(shape=(200,200,3,))\n",
    "        gaze = Input(shape=(100,2,))\n",
    "        image_embedding = self.convolution()(image)\n",
    "        gaze_embedding = self.lstm()(gaze)\n",
    "        flatten = Flatten()(image_embedding)\n",
    "        merged = Concatenate()([flatten, gaze_embedding])\n",
    "        output = self.dense()(merged)\n",
    "        \n",
    "        model = Model(input=[image, gaze], output=output)\n",
    "        return model"
   ]
  },
  {
   "cell_type": "code",
   "execution_count": 31,
   "metadata": {},
   "outputs": [],
   "source": [
    "from IPython.display import SVG\n",
    "from keras.utils.vis_utils import model_to_dot\n",
    "from keras.utils import plot_model\n"
   ]
  },
  {
   "cell_type": "code",
   "execution_count": 32,
   "metadata": {},
   "outputs": [
    {
     "name": "stderr",
     "output_type": "stream",
     "text": [
      "/home/dronchego/.virtualenvs/deepLearning/lib/python2.7/site-packages/ipykernel_launcher.py:39: UserWarning: Update your `Model` call to the Keras 2 API: `Model(outputs=Tensor(\"de..., inputs=[<tf.Tenso...)`\n"
     ]
    }
   ],
   "source": [
    "gaze_net = GazeNet()\n",
    "SVG(model_to_dot(gaze_net.model).create(prog='dot', format='svg'))\n",
    "plot_model(gaze_net.model, to_file='model.png')"
   ]
  }
 ],
 "metadata": {
  "kernelspec": {
   "display_name": "Python 2",
   "language": "python",
   "name": "python2"
  },
  "language_info": {
   "codemirror_mode": {
    "name": "ipython",
    "version": 2
   },
   "file_extension": ".py",
   "mimetype": "text/x-python",
   "name": "python",
   "nbconvert_exporter": "python",
   "pygments_lexer": "ipython2",
   "version": "2.7.14"
  }
 },
 "nbformat": 4,
 "nbformat_minor": 2
}
