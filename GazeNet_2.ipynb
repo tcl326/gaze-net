{
 "cells": [
  {
   "cell_type": "code",
   "execution_count": 1,
   "metadata": {},
   "outputs": [
    {
     "name": "stderr",
     "output_type": "stream",
     "text": [
      "/Users/ouyangjiahong/tensorflow/lib/python2.7/site-packages/h5py/__init__.py:36: FutureWarning: Conversion of the second argument of issubdtype from `float` to `np.floating` is deprecated. In future, it will be treated as `np.float64 == np.dtype(float).type`.\n",
      "  from ._conv import register_converters as _register_converters\n",
      "Using TensorFlow backend.\n"
     ]
    }
   ],
   "source": [
    "import time\n",
    "from keras.utils import plot_model\n",
    "from keras.callbacks import ModelCheckpoint\n",
    "from keras.preprocessing.image import ImageDataGenerator\n",
    "from keras import optimizers\n",
    "from keras.engine.topology import Input\n",
    "from keras.models import Model, Sequential\n",
    "from keras.layers import Dense, Conv2D, Flatten, Dropout, Activation, BatchNormalization, MaxPooling2D\n",
    "from keras import backend as K\n",
    "K.set_image_dim_ordering('tf')"
   ]
  },
  {
   "cell_type": "code",
   "execution_count": 11,
   "metadata": {},
   "outputs": [
    {
     "name": "stderr",
     "output_type": "stream",
     "text": [
      "/Users/ouyangjiahong/tensorflow/lib/python2.7/site-packages/ipykernel_launcher.py:37: UserWarning: Update your `Model` call to the Keras 2 API: `Model(outputs=Tensor(\"dr..., inputs=Tensor(\"in...)`\n"
     ]
    }
   ],
   "source": [
    "# build the model from the scratch\n",
    "input_img = Input((360, 360, 3))\n",
    "\n",
    "#block 1\n",
    "x = Conv2D(96, (11,11), strides=(4, 4), padding='valid')(input_img)\n",
    "x = BatchNormalization()(x)\n",
    "x = Activation('relu')(x)\n",
    "x = MaxPooling2D((3,3))(x)\n",
    "\n",
    "#block 2\n",
    "x = Conv2D(256, (5,5), padding='same')(x)\n",
    "x = BatchNormalization()(x)\n",
    "x = Activation('relu')(x)\n",
    "x = MaxPooling2D((2,2))(x)\n",
    "\n",
    "#block 3\n",
    "x = Conv2D(256, (3,3), padding='same')(x)\n",
    "x = BatchNormalization()(x)\n",
    "x = Activation('relu')(x)\n",
    "\n",
    "x = Conv2D(256, (3,3), padding='same')(x)\n",
    "x = BatchNormalization()(x)\n",
    "x = Activation('relu')(x)\n",
    "\n",
    "x = Conv2D(256, (3,3), padding='same')(x)\n",
    "x = BatchNormalization()(x)\n",
    "x = Activation('relu')(x)\n",
    "x = MaxPooling2D((2,2))(x)\n",
    "\n",
    "# fully-connected layers\n",
    "x = Flatten()(x)\n",
    "x = Dense(4096, activation = 'relu')(x)\n",
    "x = Dropout(0.5)(x)\n",
    "x = Dense(4096, activation = 'relu')(x)\n",
    "mlp = Dropout(0.5)(x)\n",
    "\n",
    "model = Model(inputs = input_img, output = mlp)\n",
    "\n",
    "plot_model(model, to_file='GazeNet_2.png')"
   ]
  },
  {
   "cell_type": "code",
   "execution_count": 12,
   "metadata": {},
   "outputs": [
    {
     "name": "stdout",
     "output_type": "stream",
     "text": [
      "InputLayer\n",
      "(None, 360, 360, 3)\n",
      "Conv2D\n",
      "(None, 88, 88, 96)\n",
      "BatchNormalization\n",
      "(None, 88, 88, 96)\n",
      "Activation\n",
      "(None, 88, 88, 96)\n",
      "MaxPooling2D\n",
      "(None, 29, 29, 96)\n",
      "Conv2D\n",
      "(None, 29, 29, 256)\n",
      "BatchNormalization\n",
      "(None, 29, 29, 256)\n",
      "Activation\n",
      "(None, 29, 29, 256)\n",
      "MaxPooling2D\n",
      "(None, 14, 14, 256)\n",
      "Conv2D\n",
      "(None, 14, 14, 256)\n",
      "BatchNormalization\n",
      "(None, 14, 14, 256)\n",
      "Activation\n",
      "(None, 14, 14, 256)\n",
      "Conv2D\n",
      "(None, 14, 14, 256)\n",
      "BatchNormalization\n",
      "(None, 14, 14, 256)\n",
      "Activation\n",
      "(None, 14, 14, 256)\n",
      "Conv2D\n",
      "(None, 14, 14, 256)\n",
      "BatchNormalization\n",
      "(None, 14, 14, 256)\n",
      "Activation\n",
      "(None, 14, 14, 256)\n",
      "MaxPooling2D\n",
      "(None, 7, 7, 256)\n",
      "Flatten\n",
      "(None, 12544)\n",
      "Dense\n",
      "(None, 4096)\n",
      "Dropout\n",
      "(None, 4096)\n",
      "Dense\n",
      "(None, 4096)\n",
      "Dropout\n",
      "(None, 4096)\n"
     ]
    }
   ],
   "source": [
    "for layer in model.layers:\n",
    "    print(layer.__class__.__name__)\n",
    "    print(layer.output_shape)"
   ]
  },
  {
   "cell_type": "code",
   "execution_count": null,
   "metadata": {},
   "outputs": [],
   "source": []
  }
 ],
 "metadata": {
  "kernelspec": {
   "display_name": "Python 2",
   "language": "python",
   "name": "python2"
  },
  "language_info": {
   "codemirror_mode": {
    "name": "ipython",
    "version": 2
   },
   "file_extension": ".py",
   "mimetype": "text/x-python",
   "name": "python",
   "nbconvert_exporter": "python",
   "pygments_lexer": "ipython2",
   "version": "2.7.10"
  }
 },
 "nbformat": 4,
 "nbformat_minor": 2
}
