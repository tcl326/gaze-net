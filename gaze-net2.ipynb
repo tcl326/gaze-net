{
 "cells": [
  {
   "cell_type": "code",
   "execution_count": 2,
   "metadata": {},
   "outputs": [
    {
     "name": "stderr",
     "output_type": "stream",
     "text": [
      "/Users/ouyangjiahong/tensorflow/lib/python2.7/site-packages/h5py/__init__.py:36: FutureWarning: Conversion of the second argument of issubdtype from `float` to `np.floating` is deprecated. In future, it will be treated as `np.float64 == np.dtype(float).type`.\n",
      "  from ._conv import register_converters as _register_converters\n",
      "Using TensorFlow backend.\n"
     ]
    }
   ],
   "source": [
    "import os\n",
    "import sys\n",
    "import tensorflow as tf\n",
    "import numpy as np\n",
    "from keras.models import Model\n",
    "from keras.layers import Input, Dense, LSTM, Lambda\n",
    "from keras.engine.topology import Input\n",
    "from keras import optimizers\n",
    "from keras.utils.np_utils import to_categorical\n",
    "from keras.models import Sequential, load_model\n",
    "from keras.layers import Dropout, Flatten\n",
    "from keras.layers import Conv2D, MaxPooling2D, Flatten, Dropout\n",
    "from keras.layers import Activation, BatchNormalization, MaxPooling2D\n",
    "import time\n",
    "import math\n",
    "from keras.utils import plot_model\n",
    "from keras.callbacks import ModelCheckpoint\n",
    "from keras.preprocessing.image import ImageDataGenerator\n",
    "from keras.engine.topology import Input\n",
    "from IPython.display import SVG\n",
    "from keras.utils.vis_utils import model_to_dot\n",
    "from keras.utils import plot_model\n",
    "from keras import backend as K\n",
    "K.set_image_dim_ordering('tf')\n",
    "\n",
    "import gazenetGenerator as gaze_gen"
   ]
  },
  {
   "cell_type": "code",
   "execution_count": 3,
   "metadata": {},
   "outputs": [],
   "source": [
    "# global param\n",
    "dataset_path = '../gaze_dataset'"
   ]
  },
  {
   "cell_type": "code",
   "execution_count": 4,
   "metadata": {},
   "outputs": [],
   "source": [
    "class GazeNet_Sequencial():\n",
    "    def __init__(self,\n",
    "            learning_rate = 0.0001,\n",
    "            timesteps = 32,\n",
    "            num_classes = 6,\n",
    "            batch_size = 4,\n",
    "            data_dim = 4096,):\n",
    "        self.learning_rate = learning_rate\n",
    "        self.timesteps = timesteps\n",
    "        self.num_classes = num_classes\n",
    "        self.batch_size = batch_size\n",
    "        self.data_dim = data_dim\n",
    "        self.kernel_size = 15\n",
    "        self.kernel_num = 256\n",
    "        self.gaussian_sigma = 1\n",
    "        self.gaussian_weight = self.create_gaussian_weight()\n",
    "        self.model = self.create_model()\n",
    "\n",
    "    def create_gaussian_weight(self):\n",
    "        kernel_size = self.kernel_size    #same with the shape of the layer before flatten\n",
    "        kernel_num = self.kernel_num\n",
    "        r = (kernel_size - 1) // 2\n",
    "        sigma_2 = float(self.gaussian_sigma * self.gaussian_sigma)\n",
    "        pi = 3.1415926\n",
    "        ratio = 1 / (2*pi*sigma_2)\n",
    "\n",
    "        kernel = np.zeros((kernel_size, kernel_size))\n",
    "        for i in range(-r, r+1):\n",
    "            for j in range(-r, r+1):\n",
    "                tmp = math.exp(-(i*i+j*j)/(2*sigma_2))\n",
    "                kernel[i+r][j+r] = round(tmp, 3)\n",
    "        kernel *= ratio\n",
    "        kernel = np.expand_dims(kernel, axis=2)\n",
    "        kernel = np.tile(kernel, (1,1,kernel_num))\n",
    "        # print(kernel.shape)\n",
    "        return kernel\n",
    "\n",
    "    def create_model(self):\n",
    "\n",
    "        model = Sequential()\n",
    "\n",
    "        #block 1\n",
    "        model.add(Conv2D(96,(5,5),strides = (2,2),\n",
    "                            padding = 'valid',\n",
    "                            activation = 'relu',\n",
    "                            input_shape = (128,128,3)\n",
    "                            ))\n",
    "        model.add(BatchNormalization())\n",
    "        model.add(MaxPooling2D(pool_size = (2,2)))\n",
    "\n",
    "        #block 2\n",
    "        model.add(Conv2D(256,(3,3),padding = 'same'))\n",
    "        model.add(BatchNormalization())\n",
    "        model.add(Activation('relu'))\n",
    "\n",
    "        model.add(Conv2D(256,(3,3),padding = 'same'))\n",
    "        model.add(BatchNormalization())\n",
    "        model.add(Activation('relu'))\n",
    "\n",
    "        model.add(Conv2D(256,(3,3),padding = 'same'))\n",
    "        model.add(BatchNormalization())\n",
    "        model.add(Activation('relu'))\n",
    "        model.add(MaxPooling2D(2,2))\n",
    "\n",
    "        def multiply_constant(input):\n",
    "            for i in range(self.batch_size*self.timesteps):\n",
    "                tmp = tf.multiply(tf.cast(input[i], tf.float32), tf.cast(self.gaussian_weight, tf.float32))\n",
    "                tmp = tf.expand_dims(tmp, 0)\n",
    "                if i == 0:\n",
    "                    res = tmp\n",
    "                else:\n",
    "                    res = tf.concat([res, tmp], 0)\n",
    "            res = tf.reshape(res,[self.batch_size,self.timesteps,\n",
    "                                  self.kernel_size,self.kernel_size,self.kernel_num])\n",
    "            res = tf.reshape(res,[self.batch_size,self.timesteps,\n",
    "                                  self.kernel_size*self.kernel_size*self.kernel_num])\n",
    "            return res\n",
    "\n",
    "        model.add(Lambda(multiply_constant))\n",
    "\n",
    "        def mean_value(input):\n",
    "            return tf.reduce_mean(input,1)\n",
    "\n",
    "        model.add(LSTM(128,return_sequences = True))\n",
    "        model.add(LSTM(6,return_sequences = True))\n",
    "        model.add(Lambda(mean_value))\n",
    "\n",
    "        adam = optimizers.Adam(lr = self.learning_rate)\n",
    "        model.compile(loss='categorical_crossentropy', optimizer='adam')\n",
    "        print(model.summary())\n",
    "\n",
    "        return model\n",
    "    \n",
    "#     def train(self):\n",
    "#         # categorical_labels = to_categorical(int_labels, num_classes=None)\n",
    "#         pass\n",
    "\n",
    "#     def load_data(self):\n",
    "#         print(\"Hello world\")\n",
    "\n",
    "#     def save_model_weights(self, folder_path, suffix):\n",
    "#         # Helper function to save your model / weights.\n",
    "#         self.model.save_weights(folder_path + 'weights-' +  str(suffix) + '.h5')\n",
    "#         self.model.save(folder_path + 'model-' +  str(suffix) + '.h5')\n",
    "\n",
    "#     def load_model(self, model_file):\n",
    "#         # Helper function to load an existing model.\n",
    "#         self.model = load_model(model_file)\n",
    "\n",
    "#     def load_model_weights(self,weight_file):\n",
    "#         # Helper funciton to load model weights.\n",
    "#         self.model.load_weights(weight_file)"
   ]
  },
  {
   "cell_type": "code",
   "execution_count": 5,
   "metadata": {},
   "outputs": [
    {
     "name": "stdout",
     "output_type": "stream",
     "text": [
      "_________________________________________________________________\n",
      "Layer (type)                 Output Shape              Param #   \n",
      "=================================================================\n",
      "conv2d_1 (Conv2D)            (None, 62, 62, 96)        7296      \n",
      "_________________________________________________________________\n",
      "batch_normalization_1 (Batch (None, 62, 62, 96)        384       \n",
      "_________________________________________________________________\n",
      "max_pooling2d_1 (MaxPooling2 (None, 31, 31, 96)        0         \n",
      "_________________________________________________________________\n",
      "conv2d_2 (Conv2D)            (None, 31, 31, 256)       221440    \n",
      "_________________________________________________________________\n",
      "batch_normalization_2 (Batch (None, 31, 31, 256)       1024      \n",
      "_________________________________________________________________\n",
      "activation_1 (Activation)    (None, 31, 31, 256)       0         \n",
      "_________________________________________________________________\n",
      "conv2d_3 (Conv2D)            (None, 31, 31, 256)       590080    \n",
      "_________________________________________________________________\n",
      "batch_normalization_3 (Batch (None, 31, 31, 256)       1024      \n",
      "_________________________________________________________________\n",
      "activation_2 (Activation)    (None, 31, 31, 256)       0         \n",
      "_________________________________________________________________\n",
      "conv2d_4 (Conv2D)            (None, 31, 31, 256)       590080    \n",
      "_________________________________________________________________\n",
      "batch_normalization_4 (Batch (None, 31, 31, 256)       1024      \n",
      "_________________________________________________________________\n",
      "activation_3 (Activation)    (None, 31, 31, 256)       0         \n",
      "_________________________________________________________________\n",
      "max_pooling2d_2 (MaxPooling2 (None, 15, 15, 256)       0         \n",
      "_________________________________________________________________\n",
      "lambda_1 (Lambda)            (4, 32, 57600)            0         \n",
      "_________________________________________________________________\n",
      "lstm_1 (LSTM)                (4, 32, 128)              29557248  \n",
      "_________________________________________________________________\n",
      "lstm_2 (LSTM)                (4, 32, 6)                3240      \n",
      "_________________________________________________________________\n",
      "lambda_2 (Lambda)            (4, 6)                    0         \n",
      "=================================================================\n",
      "Total params: 30,972,840\n",
      "Trainable params: 30,971,112\n",
      "Non-trainable params: 1,728\n",
      "_________________________________________________________________\n",
      "None\n",
      "generate model!\n"
     ]
    }
   ],
   "source": [
    "gaze_net = GazeNet_Sequencial()\n",
    "SVG(model_to_dot(gaze_net.model).create(prog='dot', format='svg'))\n",
    "plot_model(gaze_net.model, to_file='model.png')\n",
    "\n",
    "print(\"generate model!\")"
   ]
  },
  {
   "cell_type": "code",
   "execution_count": 10,
   "metadata": {},
   "outputs": [
    {
     "ename": "TypeError",
     "evalue": "__init__() got an unexpected keyword argument 'gaussian_std'",
     "output_type": "error",
     "traceback": [
      "\u001b[0;31m---------------------------------------------------------------------------\u001b[0m",
      "\u001b[0;31mTypeError\u001b[0m                                 Traceback (most recent call last)",
      "\u001b[0;32m<ipython-input-10-c464969309a2>\u001b[0m in \u001b[0;36m<module>\u001b[0;34m()\u001b[0m\n\u001b[1;32m      2\u001b[0m \u001b[0mtrainGenerator\u001b[0m \u001b[0;34m=\u001b[0m \u001b[0mgaze_gen\u001b[0m\u001b[0;34m.\u001b[0m\u001b[0mGazeDataGenerator\u001b[0m\u001b[0;34m(\u001b[0m\u001b[0mvalidation_split\u001b[0m\u001b[0;34m=\u001b[0m\u001b[0;36m0.2\u001b[0m\u001b[0;34m)\u001b[0m\u001b[0;34m\u001b[0m\u001b[0m\n\u001b[1;32m      3\u001b[0m train_data = trainGenerator.flow_from_directory(dataset_path, subset='training',time_steps=10, batch_size=2, \n\u001b[0;32m----> 4\u001b[0;31m                                                 crop=True)\n\u001b[0m\u001b[1;32m      5\u001b[0m val_data = trainGenerator.flow_from_directory(dataset_path, subset='validation', time_step=10, batch_size=2,\n\u001b[1;32m      6\u001b[0m                                              crop=True)\n",
      "\u001b[0;32m/Users/ouyangjiahong/Documents/gaze-net/gazenetGenerator.pyc\u001b[0m in \u001b[0;36mflow_from_directory\u001b[0;34m(self, directory, time_steps, time_skip, crop, gaussian_std, target_size, color_mode, classes, class_mode, batch_size, shuffle, seed, save_to_dir, save_prefix, save_format, follow_links, subset, interpolation)\u001b[0m\n\u001b[1;32m    373\u001b[0m             \u001b[0mfollow_links\u001b[0m\u001b[0;34m=\u001b[0m\u001b[0mfollow_links\u001b[0m\u001b[0;34m,\u001b[0m\u001b[0;34m\u001b[0m\u001b[0m\n\u001b[1;32m    374\u001b[0m             \u001b[0msubset\u001b[0m\u001b[0;34m=\u001b[0m\u001b[0msubset\u001b[0m\u001b[0;34m,\u001b[0m\u001b[0;34m\u001b[0m\u001b[0m\n\u001b[0;32m--> 375\u001b[0;31m             interpolation=interpolation)\n\u001b[0m\u001b[1;32m    376\u001b[0m \u001b[0;34m\u001b[0m\u001b[0m\n\u001b[1;32m    377\u001b[0m     \u001b[0;32mdef\u001b[0m \u001b[0mstandardize\u001b[0m\u001b[0;34m(\u001b[0m\u001b[0mself\u001b[0m\u001b[0;34m,\u001b[0m \u001b[0mx\u001b[0m\u001b[0;34m)\u001b[0m\u001b[0;34m:\u001b[0m\u001b[0;34m\u001b[0m\u001b[0m\n",
      "\u001b[0;31mTypeError\u001b[0m: __init__() got an unexpected keyword argument 'gaussian_std'"
     ]
    }
   ],
   "source": [
    "# define generator\n",
    "trainGenerator = gaze_gen.GazeDataGenerator(validation_split=0.2)\n",
    "train_data = trainGenerator.flow_from_directory(dataset_path, subset='training',time_steps=10, batch_size=2, \n",
    "                                                crop=True, gaussian_std=0.01)\n",
    "val_data = trainGenerator.flow_from_directory(dataset_path, subset='validation', time_step=10, batch_size=2,\n",
    "                                             crop=True, gaussian_std=0.01)\n",
    "\n",
    "print(\"fetch data!\")\n",
    "# [img_seq, gaze_seq], output = next(trainGeneratorDirectory)"
   ]
  },
  {
   "cell_type": "code",
   "execution_count": 8,
   "metadata": {},
   "outputs": [
    {
     "ename": "NameError",
     "evalue": "name 'model' is not defined",
     "output_type": "error",
     "traceback": [
      "\u001b[0;31m---------------------------------------------------------------------------\u001b[0m",
      "\u001b[0;31mNameError\u001b[0m                                 Traceback (most recent call last)",
      "\u001b[0;32m<ipython-input-8-3bd24c23e1b6>\u001b[0m in \u001b[0;36m<module>\u001b[0;34m()\u001b[0m\n\u001b[1;32m      1\u001b[0m \u001b[0;31m# define callback func and fit\u001b[0m\u001b[0;34m\u001b[0m\u001b[0;34m\u001b[0m\u001b[0m\n\u001b[1;32m      2\u001b[0m \u001b[0mcheckpoint\u001b[0m \u001b[0;34m=\u001b[0m \u001b[0mModelCheckpoint\u001b[0m\u001b[0;34m(\u001b[0m\u001b[0;34m'weight.{epoch:02d}.hdf5'\u001b[0m\u001b[0;34m,\u001b[0m \u001b[0mmonitor\u001b[0m\u001b[0;34m=\u001b[0m\u001b[0;34m'val_acc'\u001b[0m\u001b[0;34m,\u001b[0m \u001b[0mmode\u001b[0m\u001b[0;34m=\u001b[0m\u001b[0;34m'max'\u001b[0m\u001b[0;34m,\u001b[0m \u001b[0mperiod\u001b[0m\u001b[0;34m=\u001b[0m\u001b[0;36m5\u001b[0m\u001b[0;34m)\u001b[0m\u001b[0;34m\u001b[0m\u001b[0m\n\u001b[0;32m----> 3\u001b[0;31m model.fit_generator(train_data, steps_per_epoch=400, epochs=100, callbacks=[checkpoint], \n\u001b[0m\u001b[1;32m      4\u001b[0m                     validation_data=val_data, validation_step=20, shuffle=False)\n\u001b[1;32m      5\u001b[0m \u001b[0;32mprint\u001b[0m\u001b[0;34m(\u001b[0m\u001b[0;34m\"finished training!\"\u001b[0m\u001b[0;34m)\u001b[0m\u001b[0;34m\u001b[0m\u001b[0m\n",
      "\u001b[0;31mNameError\u001b[0m: name 'model' is not defined"
     ]
    }
   ],
   "source": [
    "# define callback func and fit\n",
    "checkpoint = ModelCheckpoint('weight.{epoch:02d}.hdf5', monitor='val_acc', mode='max', period=5)\n",
    "model.fit_generator(train_data, steps_per_epoch=400, epochs=100, callbacks=[checkpoint], \n",
    "                    validation_data=val_data, validation_step=20, shuffle=False)\n",
    "print(\"finished training!\")"
   ]
  },
  {
   "cell_type": "code",
   "execution_count": null,
   "metadata": {},
   "outputs": [],
   "source": []
  },
  {
   "cell_type": "code",
   "execution_count": null,
   "metadata": {},
   "outputs": [],
   "source": []
  },
  {
   "cell_type": "code",
   "execution_count": null,
   "metadata": {},
   "outputs": [],
   "source": []
  }
 ],
 "metadata": {
  "kernelspec": {
   "display_name": "Python 2",
   "language": "python",
   "name": "python2"
  },
  "language_info": {
   "codemirror_mode": {
    "name": "ipython",
    "version": 2
   },
   "file_extension": ".py",
   "mimetype": "text/x-python",
   "name": "python",
   "nbconvert_exporter": "python",
   "pygments_lexer": "ipython2",
   "version": "2.7.10"
  }
 },
 "nbformat": 4,
 "nbformat_minor": 2
}
