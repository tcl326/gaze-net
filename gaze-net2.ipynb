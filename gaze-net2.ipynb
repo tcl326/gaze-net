{
 "cells": [
  {
   "cell_type": "code",
   "execution_count": 1,
   "metadata": {},
   "outputs": [
    {
     "name": "stderr",
     "output_type": "stream",
     "text": [
      "/Users/ouyangjiahong/tensorflow/lib/python2.7/site-packages/h5py/__init__.py:36: FutureWarning: Conversion of the second argument of issubdtype from `float` to `np.floating` is deprecated. In future, it will be treated as `np.float64 == np.dtype(float).type`.\n",
      "  from ._conv import register_converters as _register_converters\n",
      "Using TensorFlow backend.\n"
     ]
    }
   ],
   "source": [
    "import os\n",
    "import sys\n",
    "import tensorflow as tf\n",
    "import numpy as np\n",
    "from keras.models import Model\n",
    "from keras.layers import Input, Dense, LSTM, Lambda\n",
    "from keras.engine.topology import Input\n",
    "from keras import optimizers\n",
    "from keras.utils.np_utils import to_categorical\n",
    "from keras.models import Sequential, load_model\n",
    "from keras.layers import Dropout, Flatten\n",
    "from keras.layers import Conv2D, MaxPooling2D, Flatten, Dropout\n",
    "from keras.layers import Activation, BatchNormalization, MaxPooling2D\n",
    "import time\n",
    "import math\n",
    "from keras.utils import plot_model\n",
    "from keras.callbacks import ModelCheckpoint\n",
    "from keras.preprocessing.image import ImageDataGenerator\n",
    "from keras.engine.topology import Input\n",
    "from keras import backend as K\n",
    "K.set_image_dim_ordering('tf')"
   ]
  },
  {
   "cell_type": "code",
   "execution_count": 2,
   "metadata": {},
   "outputs": [],
   "source": [
    "import gazenetGenerator as gaze"
   ]
  },
  {
   "cell_type": "code",
   "execution_count": 3,
   "metadata": {},
   "outputs": [],
   "source": [
    "trainGenerator = gaze.GazeDataGenerator()"
   ]
  },
  {
   "cell_type": "code",
   "execution_count": 4,
   "metadata": {},
   "outputs": [
    {
     "name": "stdout",
     "output_type": "stream",
     "text": [
      "Found 5 Interactions belonging to 6 classes.\n"
     ]
    }
   ],
   "source": [
    "trainGeneratorDirectory = trainGenerator.flow_from_directory('../gaze_dataset', time_steps=10, batch_size=2)"
   ]
  },
  {
   "cell_type": "code",
   "execution_count": 5,
   "metadata": {},
   "outputs": [],
   "source": [
    "[img_seq, gaze_seq], output = next(trainGeneratorDirectory)"
   ]
  },
  {
   "cell_type": "code",
   "execution_count": 6,
   "metadata": {},
   "outputs": [
    {
     "data": {
      "text/plain": [
       "(2, 10, 3)"
      ]
     },
     "execution_count": 6,
     "metadata": {},
     "output_type": "execute_result"
    }
   ],
   "source": [
    "gaze_seq.shape"
   ]
  },
  {
   "cell_type": "code",
   "execution_count": 7,
   "metadata": {},
   "outputs": [],
   "source": [
    "from IPython.display import SVG\n",
    "from keras.utils.vis_utils import model_to_dot\n",
    "from keras.utils import plot_model"
   ]
  },
  {
   "cell_type": "code",
   "execution_count": 18,
   "metadata": {},
   "outputs": [],
   "source": [
    "class GazeNet():\n",
    "    def __init__(self,\n",
    "            learning_rate = 0.0001,\n",
    "            time_step = 32,\n",
    "            num_classes = 6,\n",
    "            batch_size = 4,\n",
    "            data_dim = 4096,):\n",
    "        self.learning_rate = learning_rate\n",
    "        self.time_step = time_step\n",
    "        self.num_classes = num_classes\n",
    "        self.batch_size = batch_size\n",
    "        self.data_dim = data_dim\n",
    "        self.gaussian_sigma = 1\n",
    "        self.gaussian_weight = self.create_gaussian_weight()\n",
    "        self.model = self.create_mode()\n",
    "    \n",
    "    def create_gaussian_weight(self):\n",
    "        kernel_size = 15    #same with the shape of the layer before flatten\n",
    "        kernel_num = 256\n",
    "        r = (kernel_size - 1) // 2\n",
    "        sigma_2 = float(self.gaussian_sigma * self.gaussian_sigma)\n",
    "        pi = 3.1415926\n",
    "        ratio = 1 / (2*pi*sigma_2)\n",
    "        \n",
    "        kernel = np.zeros((kernel_size, kernel_size))\n",
    "        for i in range(-r, r+1):\n",
    "            for j in range(-r, r+1):\n",
    "                tmp = math.exp(-(i*i+j*j)/(2*sigma_2))\n",
    "                kernel[i+r][j+r] = round(tmp, 3)\n",
    "        kernel *= ratio\n",
    "        kernel = np.expand_dims(kernel, axis=2)\n",
    "        kernel = np.tile(kernel, (1,1,kernel_num))\n",
    "        print(kernel.shape)\n",
    "        return kernel\n",
    "                \n",
    "    \n",
    "    def create_mode(self):\n",
    "\n",
    "        # build the model from the scratch\n",
    "        input_img = Input((128,128,3,))\n",
    "\n",
    "        #block 1\n",
    "        x = Conv2D(96, (5,5), strides=(2, 2), padding='valid')(input_img)\n",
    "        x = BatchNormalization()(x)\n",
    "        x = Activation('relu')(x)\n",
    "        x = MaxPooling2D((2,2))(x)\n",
    "\n",
    "#         #block 2\n",
    "#         x = Conv2D(256, (5,5), padding='same')(x)\n",
    "#         x = BatchNormalization()(x)\n",
    "#         x = Activation('relu')(x)\n",
    "#         x = MaxPooling2D((2,2))(x)\n",
    "\n",
    "        #block 2\n",
    "        x = Conv2D(256, (3,3), padding='same')(x)\n",
    "        x = BatchNormalization()(x)\n",
    "        x = Activation('relu')(x)\n",
    "\n",
    "        x = Conv2D(256, (3,3), padding='same')(x)\n",
    "        x = BatchNormalization()(x)\n",
    "        x = Activation('relu')(x)\n",
    "\n",
    "        x = Conv2D(256, (3,3), padding='same')(x)\n",
    "        x = BatchNormalization()(x)\n",
    "        x = Activation('relu')(x)\n",
    "        x = MaxPooling2D((2,2))(x)\n",
    "        print(x)\n",
    "        \n",
    "        def multiply_constant(input):\n",
    "            print(input)\n",
    "            print(self.gaussian_weight.shape)\n",
    "            for i in range(self.batch_size*self.time_step):\n",
    "                tmp = tf.multiply(tf.cast(input[i], tf.float32), tf.cast(self.gaussian_weight, tf.float32))\n",
    "                tmp = tf.expand_dims(tmp, 0)\n",
    "                if i == 0:\n",
    "                    res = tmp\n",
    "                else:\n",
    "                    res = tf.concat([res, tmp], 0)\n",
    "            print(res.shape)\n",
    "            return res\n",
    "        \n",
    "        # fully-connected layers\n",
    "        x = Lambda(multiply_constant)(x)\n",
    "        print(x)\n",
    "        x = Flatten()(x)\n",
    "        print(x)\n",
    "        x = Dense(4096, activation = 'relu')(x)\n",
    "        x = Dropout(0.5)(x)\n",
    "        x = Dense(4096, activation = 'relu')(x)\n",
    "        mlp = Dropout(0.5)(x)\n",
    "        print(mlp)\n",
    "\n",
    "        def mean_value(input):\n",
    "            return [np.mean(input[i*self.time_step:(i+1)*self.time_step]) for i in range(self.batch_size)]\n",
    "\n",
    "        # LSTM\n",
    "#         print mlp\n",
    "        LSTMLayer = LSTM(128,return_sequences = True)(mlp)\n",
    "        print(LSTMLayer)\n",
    "        print(\"LAMBDA\")\n",
    "        output = Lambda(mean_value)(LSTMLayer)\n",
    "        model = Model(inputs = input_img,outputs = output)\n",
    "        adam = optimizers.Adam(lr = self.learning_rate)\n",
    "        model.compile(loss='categorical_crossentropy', optimizer='adam')\n",
    "        \n",
    "        return model\n",
    "        \n",
    "#     def train(self):\n",
    "#         # categorical_labels = to_categorical(int_labels, num_classes=None)\n",
    "#         pass\n",
    "\n",
    "#     def load_data(self):\n",
    "#         print(\"Hello world\")\n",
    "\n",
    "#     def save_model_weights(self, folder_path, suffix):\n",
    "#         # Helper function to save your model / weights.\n",
    "#         self.model.save_weights(folder_path + 'weights-' +  str(suffix) + '.h5')\n",
    "#         self.model.save(folder_path + 'model-' +  str(suffix) + '.h5')\n",
    "\n",
    "#     def load_model(self, model_file):\n",
    "#         # Helper function to load an existing model.\n",
    "#         self.model = load_model(model_file)\n",
    "\n",
    "#     def load_model_weights(self,weight_file):\n",
    "#         # Helper funciton to load model weights.\n",
    "#         self.model.load_weights(weight_file)"
   ]
  },
  {
   "cell_type": "code",
   "execution_count": 19,
   "metadata": {},
   "outputs": [
    {
     "name": "stdout",
     "output_type": "stream",
     "text": [
      "(15, 15, 256)\n",
      "Tensor(\"max_pooling2d_12/MaxPool:0\", shape=(?, 15, 15, 256), dtype=float32)\n",
      "Tensor(\"max_pooling2d_12/MaxPool:0\", shape=(?, 15, 15, 256), dtype=float32)\n",
      "(15, 15, 256)\n",
      "(128, 15, 15, 256)\n",
      "Tensor(\"lambda_6/Placeholder:0\", shape=(?, 15, 15, 256), dtype=float32)\n",
      "(15, 15, 256)\n",
      "(128, 15, 15, 256)\n",
      "Tensor(\"lambda_6/concat_126:0\", shape=(128, 15, 15, 256), dtype=float32)\n",
      "Tensor(\"flatten_3/Reshape:0\", shape=(?, ?), dtype=float32)\n",
      "Tensor(\"dropout_6/cond/Merge:0\", shape=(?, 4096), dtype=float32)\n"
     ]
    },
    {
     "ename": "ValueError",
     "evalue": "Input 0 is incompatible with layer lstm_3: expected ndim=3, found ndim=2",
     "output_type": "error",
     "traceback": [
      "\u001b[0;31m---------------------------------------------------------------------------\u001b[0m",
      "\u001b[0;31mValueError\u001b[0m                                Traceback (most recent call last)",
      "\u001b[0;32m<ipython-input-19-1eed53cba027>\u001b[0m in \u001b[0;36m<module>\u001b[0;34m()\u001b[0m\n\u001b[0;32m----> 1\u001b[0;31m \u001b[0mgaze_net\u001b[0m \u001b[0;34m=\u001b[0m \u001b[0mGazeNet\u001b[0m\u001b[0;34m(\u001b[0m\u001b[0;34m)\u001b[0m\u001b[0;34m\u001b[0m\u001b[0m\n\u001b[0m\u001b[1;32m      2\u001b[0m \u001b[0mSVG\u001b[0m\u001b[0;34m(\u001b[0m\u001b[0mmodel_to_dot\u001b[0m\u001b[0;34m(\u001b[0m\u001b[0mgaze_net\u001b[0m\u001b[0;34m.\u001b[0m\u001b[0mmodel\u001b[0m\u001b[0;34m)\u001b[0m\u001b[0;34m.\u001b[0m\u001b[0mcreate\u001b[0m\u001b[0;34m(\u001b[0m\u001b[0mprog\u001b[0m\u001b[0;34m=\u001b[0m\u001b[0;34m'dot'\u001b[0m\u001b[0;34m,\u001b[0m \u001b[0mformat\u001b[0m\u001b[0;34m=\u001b[0m\u001b[0;34m'svg'\u001b[0m\u001b[0;34m)\u001b[0m\u001b[0;34m)\u001b[0m\u001b[0;34m\u001b[0m\u001b[0m\n\u001b[1;32m      3\u001b[0m \u001b[0mplot_model\u001b[0m\u001b[0;34m(\u001b[0m\u001b[0mgaze_net\u001b[0m\u001b[0;34m.\u001b[0m\u001b[0mmodel\u001b[0m\u001b[0;34m,\u001b[0m \u001b[0mto_file\u001b[0m\u001b[0;34m=\u001b[0m\u001b[0;34m'model.png'\u001b[0m\u001b[0;34m)\u001b[0m\u001b[0;34m\u001b[0m\u001b[0m\n",
      "\u001b[0;32m<ipython-input-18-fd9c68a932ef>\u001b[0m in \u001b[0;36m__init__\u001b[0;34m(self, learning_rate, time_step, num_classes, batch_size, data_dim)\u001b[0m\n\u001b[1;32m     13\u001b[0m         \u001b[0mself\u001b[0m\u001b[0;34m.\u001b[0m\u001b[0mgaussian_sigma\u001b[0m \u001b[0;34m=\u001b[0m \u001b[0;36m1\u001b[0m\u001b[0;34m\u001b[0m\u001b[0m\n\u001b[1;32m     14\u001b[0m         \u001b[0mself\u001b[0m\u001b[0;34m.\u001b[0m\u001b[0mgaussian_weight\u001b[0m \u001b[0;34m=\u001b[0m \u001b[0mself\u001b[0m\u001b[0;34m.\u001b[0m\u001b[0mcreate_gaussian_weight\u001b[0m\u001b[0;34m(\u001b[0m\u001b[0;34m)\u001b[0m\u001b[0;34m\u001b[0m\u001b[0m\n\u001b[0;32m---> 15\u001b[0;31m         \u001b[0mself\u001b[0m\u001b[0;34m.\u001b[0m\u001b[0mmodel\u001b[0m \u001b[0;34m=\u001b[0m \u001b[0mself\u001b[0m\u001b[0;34m.\u001b[0m\u001b[0mcreate_mode\u001b[0m\u001b[0;34m(\u001b[0m\u001b[0;34m)\u001b[0m\u001b[0;34m\u001b[0m\u001b[0m\n\u001b[0m\u001b[1;32m     16\u001b[0m \u001b[0;34m\u001b[0m\u001b[0m\n\u001b[1;32m     17\u001b[0m     \u001b[0;32mdef\u001b[0m \u001b[0mcreate_gaussian_weight\u001b[0m\u001b[0;34m(\u001b[0m\u001b[0mself\u001b[0m\u001b[0;34m)\u001b[0m\u001b[0;34m:\u001b[0m\u001b[0;34m\u001b[0m\u001b[0m\n",
      "\u001b[0;32m<ipython-input-18-fd9c68a932ef>\u001b[0m in \u001b[0;36mcreate_mode\u001b[0;34m(self)\u001b[0m\n\u001b[1;32m     96\u001b[0m         \u001b[0;31m# LSTM\u001b[0m\u001b[0;34m\u001b[0m\u001b[0;34m\u001b[0m\u001b[0m\n\u001b[1;32m     97\u001b[0m \u001b[0;31m#         print mlp\u001b[0m\u001b[0;34m\u001b[0m\u001b[0;34m\u001b[0m\u001b[0m\n\u001b[0;32m---> 98\u001b[0;31m         \u001b[0mLSTMLayer\u001b[0m \u001b[0;34m=\u001b[0m \u001b[0mLSTM\u001b[0m\u001b[0;34m(\u001b[0m\u001b[0;36m128\u001b[0m\u001b[0;34m,\u001b[0m\u001b[0mreturn_sequences\u001b[0m \u001b[0;34m=\u001b[0m \u001b[0mTrue\u001b[0m\u001b[0;34m)\u001b[0m\u001b[0;34m(\u001b[0m\u001b[0mmlp\u001b[0m\u001b[0;34m)\u001b[0m\u001b[0;34m\u001b[0m\u001b[0m\n\u001b[0m\u001b[1;32m     99\u001b[0m         \u001b[0;32mprint\u001b[0m\u001b[0;34m(\u001b[0m\u001b[0mLSTMLayer\u001b[0m\u001b[0;34m)\u001b[0m\u001b[0;34m\u001b[0m\u001b[0m\n\u001b[1;32m    100\u001b[0m         \u001b[0;32mprint\u001b[0m\u001b[0;34m(\u001b[0m\u001b[0;34m\"LAMBDA\"\u001b[0m\u001b[0;34m)\u001b[0m\u001b[0;34m\u001b[0m\u001b[0m\n",
      "\u001b[0;32m/Library/Python/2.7/site-packages/Keras-2.1.3-py2.7.egg/keras/layers/recurrent.pyc\u001b[0m in \u001b[0;36m__call__\u001b[0;34m(self, inputs, initial_state, constants, **kwargs)\u001b[0m\n\u001b[1;32m    497\u001b[0m \u001b[0;34m\u001b[0m\u001b[0m\n\u001b[1;32m    498\u001b[0m         \u001b[0;32mif\u001b[0m \u001b[0minitial_state\u001b[0m \u001b[0;32mis\u001b[0m \u001b[0mNone\u001b[0m \u001b[0;32mand\u001b[0m \u001b[0mconstants\u001b[0m \u001b[0;32mis\u001b[0m \u001b[0mNone\u001b[0m\u001b[0;34m:\u001b[0m\u001b[0;34m\u001b[0m\u001b[0m\n\u001b[0;32m--> 499\u001b[0;31m             \u001b[0;32mreturn\u001b[0m \u001b[0msuper\u001b[0m\u001b[0;34m(\u001b[0m\u001b[0mRNN\u001b[0m\u001b[0;34m,\u001b[0m \u001b[0mself\u001b[0m\u001b[0;34m)\u001b[0m\u001b[0;34m.\u001b[0m\u001b[0m__call__\u001b[0m\u001b[0;34m(\u001b[0m\u001b[0minputs\u001b[0m\u001b[0;34m,\u001b[0m \u001b[0;34m**\u001b[0m\u001b[0mkwargs\u001b[0m\u001b[0;34m)\u001b[0m\u001b[0;34m\u001b[0m\u001b[0m\n\u001b[0m\u001b[1;32m    500\u001b[0m \u001b[0;34m\u001b[0m\u001b[0m\n\u001b[1;32m    501\u001b[0m         \u001b[0;31m# If any of `initial_state` or `constants` are specified and are Keras\u001b[0m\u001b[0;34m\u001b[0m\u001b[0;34m\u001b[0m\u001b[0m\n",
      "\u001b[0;32m/Library/Python/2.7/site-packages/Keras-2.1.3-py2.7.egg/keras/engine/topology.pyc\u001b[0m in \u001b[0;36m__call__\u001b[0;34m(self, inputs, **kwargs)\u001b[0m\n\u001b[1;32m    571\u001b[0m                 \u001b[0;31m# Raise exceptions in case the input is not compatible\u001b[0m\u001b[0;34m\u001b[0m\u001b[0;34m\u001b[0m\u001b[0m\n\u001b[1;32m    572\u001b[0m                 \u001b[0;31m# with the input_spec specified in the layer constructor.\u001b[0m\u001b[0;34m\u001b[0m\u001b[0;34m\u001b[0m\u001b[0m\n\u001b[0;32m--> 573\u001b[0;31m                 \u001b[0mself\u001b[0m\u001b[0;34m.\u001b[0m\u001b[0massert_input_compatibility\u001b[0m\u001b[0;34m(\u001b[0m\u001b[0minputs\u001b[0m\u001b[0;34m)\u001b[0m\u001b[0;34m\u001b[0m\u001b[0m\n\u001b[0m\u001b[1;32m    574\u001b[0m \u001b[0;34m\u001b[0m\u001b[0m\n\u001b[1;32m    575\u001b[0m                 \u001b[0;31m# Collect input shapes to build layer.\u001b[0m\u001b[0;34m\u001b[0m\u001b[0;34m\u001b[0m\u001b[0m\n",
      "\u001b[0;32m/Library/Python/2.7/site-packages/Keras-2.1.3-py2.7.egg/keras/engine/topology.pyc\u001b[0m in \u001b[0;36massert_input_compatibility\u001b[0;34m(self, inputs)\u001b[0m\n\u001b[1;32m    470\u001b[0m                                      \u001b[0mself\u001b[0m\u001b[0;34m.\u001b[0m\u001b[0mname\u001b[0m \u001b[0;34m+\u001b[0m \u001b[0;34m': expected ndim='\u001b[0m \u001b[0;34m+\u001b[0m\u001b[0;34m\u001b[0m\u001b[0m\n\u001b[1;32m    471\u001b[0m                                      \u001b[0mstr\u001b[0m\u001b[0;34m(\u001b[0m\u001b[0mspec\u001b[0m\u001b[0;34m.\u001b[0m\u001b[0mndim\u001b[0m\u001b[0;34m)\u001b[0m \u001b[0;34m+\u001b[0m \u001b[0;34m', found ndim='\u001b[0m \u001b[0;34m+\u001b[0m\u001b[0;34m\u001b[0m\u001b[0m\n\u001b[0;32m--> 472\u001b[0;31m                                      str(K.ndim(x)))\n\u001b[0m\u001b[1;32m    473\u001b[0m             \u001b[0;32mif\u001b[0m \u001b[0mspec\u001b[0m\u001b[0;34m.\u001b[0m\u001b[0mmax_ndim\u001b[0m \u001b[0;32mis\u001b[0m \u001b[0;32mnot\u001b[0m \u001b[0mNone\u001b[0m\u001b[0;34m:\u001b[0m\u001b[0;34m\u001b[0m\u001b[0m\n\u001b[1;32m    474\u001b[0m                 \u001b[0mndim\u001b[0m \u001b[0;34m=\u001b[0m \u001b[0mK\u001b[0m\u001b[0;34m.\u001b[0m\u001b[0mndim\u001b[0m\u001b[0;34m(\u001b[0m\u001b[0mx\u001b[0m\u001b[0;34m)\u001b[0m\u001b[0;34m\u001b[0m\u001b[0m\n",
      "\u001b[0;31mValueError\u001b[0m: Input 0 is incompatible with layer lstm_3: expected ndim=3, found ndim=2"
     ]
    }
   ],
   "source": [
    "gaze_net = GazeNet()\n",
    "SVG(model_to_dot(gaze_net.model).create(prog='dot', format='svg'))\n",
    "plot_model(gaze_net.model, to_file='model.png')"
   ]
  },
  {
   "cell_type": "code",
   "execution_count": null,
   "metadata": {},
   "outputs": [],
   "source": [
    "print(2)"
   ]
  },
  {
   "cell_type": "code",
   "execution_count": null,
   "metadata": {},
   "outputs": [],
   "source": []
  }
 ],
 "metadata": {
  "kernelspec": {
   "display_name": "Python 2",
   "language": "python",
   "name": "python2"
  },
  "language_info": {
   "codemirror_mode": {
    "name": "ipython",
    "version": 2
   },
   "file_extension": ".py",
   "mimetype": "text/x-python",
   "name": "python",
   "nbconvert_exporter": "python",
   "pygments_lexer": "ipython2",
   "version": "2.7.10"
  }
 },
 "nbformat": 4,
 "nbformat_minor": 2
}
